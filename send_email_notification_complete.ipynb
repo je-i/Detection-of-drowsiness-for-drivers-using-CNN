{
 "cells": [
  {
   "cell_type": "markdown",
   "id": "fd53f36c-036f-4be5-879c-f27cbb54afa2",
   "metadata": {},
   "source": [
    "## Send email notification using MailSlurp\n",
    "\n",
    "Email url: https://app.mailslurp.com/emails/"
   ]
  },
  {
   "cell_type": "code",
   "execution_count": 4,
   "id": "4c881ef6-bcfc-4a51-aba2-abe99c6437a3",
   "metadata": {
    "tags": []
   },
   "outputs": [],
   "source": [
    "import mailslurp_client\n",
    "\n",
    "configuration = mailslurp_client.Configuration()\n",
    "configuration.api_key['x-api-key'] = \"661708563b3ab91753b7acd88365489c08db6f1d30e9f2275e55094b3dbe44d4\""
   ]
  },
  {
   "cell_type": "code",
   "execution_count": 5,
   "id": "a3ef2a50-b98a-487c-883d-ea3438876d47",
   "metadata": {},
   "outputs": [],
   "source": [
    "def send_email_example():\n",
    "    with mailslurp_client.ApiClient(configuration) as api_client:\n",
    "        # first create an inbox\n",
    "        api_instance = mailslurp_client.InboxControllerApi(api_client)\n",
    "        inbox = api_instance.create_inbox()\n",
    "        print(\"inbox:\", inbox)\n",
    "\n",
    "        # send email from the inbox\n",
    "        send_email_options = mailslurp_client.SendEmailOptions()\n",
    "        send_email_options.to = [inbox.email_address]\n",
    "        send_email_options.subject = \"Hello\"\n",
    "        send_email_options.body = \"Your message\"\n",
    "        send_email_options.is_html = True\n",
    "        api_instance.send_email(inbox.id, send_email_options=send_email_options)"
   ]
  },
  {
   "cell_type": "code",
   "execution_count": 7,
   "id": "88635e04-a23d-40a1-9365-f6378ee35d99",
   "metadata": {},
   "outputs": [
    {
     "name": "stdout",
     "output_type": "stream",
     "text": [
      "inbox: {'created_at': datetime.datetime(2022, 11, 30, 1, 27, 9, 767000, tzinfo=tzutc()),\n",
      " 'description': None,\n",
      " 'domain_id': None,\n",
      " 'email_address': 'd98e6829-5172-4edf-b110-2a537c846822@mailslurp.com',\n",
      " 'expires_at': '2022-12-01T13:27:09.765709146Z',\n",
      " 'favourite': False,\n",
      " 'id': 'd98e6829-5172-4edf-b110-2a537c846822',\n",
      " 'inbox_type': 'HTTP_INBOX',\n",
      " 'name': None,\n",
      " 'read_only': False,\n",
      " 'tags': None,\n",
      " 'user_id': 'da3789fc-bd77-48bf-b336-9df2e2c87955',\n",
      " 'virtual_inbox': False}\n"
     ]
    }
   ],
   "source": [
    "send_email_example()"
   ]
  },
  {
   "cell_type": "code",
   "execution_count": null,
   "id": "b1d298c5-f1bd-44f4-aa76-4ff5fb4de96f",
   "metadata": {
    "tags": []
   },
   "outputs": [],
   "source": []
  }
 ],
 "metadata": {
  "kernelspec": {
   "display_name": "Python 3 (ipykernel)",
   "language": "python",
   "name": "python3"
  },
  "language_info": {
   "codemirror_mode": {
    "name": "ipython",
    "version": 3
   },
   "file_extension": ".py",
   "mimetype": "text/x-python",
   "name": "python",
   "nbconvert_exporter": "python",
   "pygments_lexer": "ipython3",
   "version": "3.9.7"
  }
 },
 "nbformat": 4,
 "nbformat_minor": 5
}
