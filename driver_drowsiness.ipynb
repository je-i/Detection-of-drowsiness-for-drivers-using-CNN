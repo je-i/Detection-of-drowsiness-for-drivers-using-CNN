{
 "cells": [
  {
   "cell_type": "markdown",
   "id": "8f96587a-ee13-400b-a30e-9a949c3a6f5e",
   "metadata": {},
   "source": [
    "# Detection of Drowsiness for Drivers, using CNN.\n",
    "\n",
    "* In this project we use OpenCV and TensorFlow\n",
    "\n",
    "We develop a deep learning model to detect and determine whether a driver's eyes are open or closed classiying it into one of the two categories, using the **yawn-eye** dataset which consists of 617 images, split into training and test datasets. The dataset consists of subfolders of labelled data; closed, open, yawn , no_yawn.\n",
    "We then train and test the developed deep learning model. \n",
    "To test the accuracy of predictions for this model in real time, we take images from \n",
    "a computer webcam using OpenCV and then fed to a deep learning model which then classifies the person's eyes as either open or closed, displaying a text on the screen and issuing a sound alert.\n",
    "\n",
    "The steps followed in this project are:\n",
    "1. Take image inputs from the dataset.\n",
    "2. Determine a Region of Interest(ROI), for the detected face and eyes.\n",
    "3. Feed this to a classifier(model), which classifies the eyes as either open or closed.\n",
    "4. Keep track of how much time has elapsed with the person'e eyes open or closed, thus classifying the person as either drowsy or not."
   ]
  },
  {
   "cell_type": "markdown",
   "id": "bc099770-2b64-4a45-8213-da30b0a75e59",
   "metadata": {},
   "source": [
    "## 1. Creating a model to identify whether the driver's eyes are open or closed."
   ]
  },
  {
   "cell_type": "markdown",
   "id": "08c02b56-1520-4efb-810b-6c3d41c9f6f4",
   "metadata": {},
   "source": [
    "### Loading the dataset\n",
    "\n",
    "* The dataset contains four subfolders inside train and test folders. We will access the data and use it to train the model.    \n",
    "* We will pre-process the images and then use them for model training.  \n",
    "* Once the model is trained, we store the weights and model architecture in the file \"models/result_model\".\n"
   ]
  },
  {
   "cell_type": "markdown",
   "id": "7332df87-9ed4-49be-b086-2a7dc7de3f0a",
   "metadata": {},
   "source": [
    "**Model architecture**\n",
    "\n",
    "We use keras to build the model with the use of Convolutional Neural Networks(CNN).   \n",
    "CNN is a deep neural network which is ideal for image classification.    \n",
    "It consists of an input layer, output layer and hidden layers. The operation is performed using a filter that performs 2-dimension matrix multiplication on the layers.   \n",
    "\n",
    "**The architecture we use in this project is:**\n",
    "    \n",
    "A CNN model made up of the following layers:\n",
    "\n",
    "* Convolutional layer; 64 nodes, kernel size 3  \n",
    "* Convolutional layer; 64 nodes, kernel size 3  \n",
    "* Convolutional layer; 64 nodes, kernel size 3  \n",
    "* Fully connected layer; 128 nodes   \n",
    "\n",
    "The output layer is a fully connected 2-node layer. \n",
    "We use relu as the activation function for all layers except the output layer. where we use the Softmax activation function."
   ]
  },
  {
   "cell_type": "code",
   "execution_count": 1,
   "id": "4b1dbabf-825b-4484-bf7d-575abfa535f7",
   "metadata": {},
   "outputs": [],
   "source": [
    "#!pip install pygame"
   ]
  },
  {
   "cell_type": "code",
   "execution_count": 2,
   "id": "e07e17e2-3b91-42c2-98a0-d4ecedfd2d05",
   "metadata": {},
   "outputs": [],
   "source": [
    "#importing libraries\n",
    "import cv2\n",
    "import os\n",
    "import random\n",
    "from keras.models import load_model\n",
    "import numpy as np\n",
    "\n",
    "#CNN model\n",
    "from keras.models import Sequential\n",
    "from keras.layers import Conv2D , MaxPooling2D , Flatten , Dense\n",
    "\n",
    "#Saving the trained model\n",
    "import pickle  #saving model to a pickle file\n"
   ]
  },
  {
   "cell_type": "code",
   "execution_count": 3,
   "id": "0c18e631-6c58-4d92-a1bf-1ea4929550a9",
   "metadata": {},
   "outputs": [],
   "source": [
    "#loading the dataset\n",
    "\n",
    "#path to dataset\n",
    "path = r'eye_dataset/train'\n",
    "# categories of interest\n",
    "GROUPS = ['Closed' , 'Open']"
   ]
  },
  {
   "cell_type": "code",
   "execution_count": 4,
   "id": "8a64dbf9-8895-48e2-90bd-ea459115ed36",
   "metadata": {},
   "outputs": [],
   "source": [
    "#Specifying image size\n",
    "image_size = 24\n",
    "data = []\n",
    "\n",
    "#iterating through each image and expressing the image as an array\n",
    "for group in GROUPS:\n",
    "    folder = os.path.join(path,group)\n",
    "    label = GROUPS.index(group)\n",
    "    for img in os.listdir(folder):\n",
    "        img_path = os.path.join(folder, img)\n",
    "        img_arr = cv2.imread(img_path)\n",
    "        img_arr = cv2.cvtColor(img_arr, cv2.COLOR_BGR2GRAY)\n",
    "        img_arr = cv2.resize(img_arr,(image_size, image_size),1)\n",
    "        data.append([img_arr , label])"
   ]
  },
  {
   "cell_type": "code",
   "execution_count": 5,
   "id": "cde8d74a-86f8-4c40-8823-d5157a48c285",
   "metadata": {
    "tags": []
   },
   "outputs": [
    {
     "data": {
      "text/plain": [
       "1234"
      ]
     },
     "execution_count": 5,
     "metadata": {},
     "output_type": "execute_result"
    }
   ],
   "source": [
    "#checking the length of the data\n",
    "len(data)"
   ]
  },
  {
   "cell_type": "code",
   "execution_count": 6,
   "id": "ba5c2d35-4e04-4525-a293-ff6156a49504",
   "metadata": {},
   "outputs": [],
   "source": [
    "#randomly shuffling the data\n",
    "random.shuffle(data)"
   ]
  },
  {
   "cell_type": "code",
   "execution_count": 7,
   "id": "82d8780c-0c62-423f-87b3-7e84805e89dc",
   "metadata": {},
   "outputs": [],
   "source": [
    "#splitting the data into attributes and labels\n",
    "X = []\n",
    "Y = []\n",
    "\n",
    "for attributes,labels in data:\n",
    "    X.append(attributes)     #features\n",
    "    Y.append(labels)     "
   ]
  },
  {
   "cell_type": "code",
   "execution_count": 8,
   "id": "d1da08c8-fe11-4ba9-86ab-54582dbf66d4",
   "metadata": {},
   "outputs": [],
   "source": [
    "#coverting X and Y into an array\n",
    "X = np.array(X)\n",
    "Y = np.array(Y)"
   ]
  },
  {
   "cell_type": "markdown",
   "id": "85c36ca8-4db4-483a-a303-ea9ba6221af8",
   "metadata": {},
   "source": [
    "## Saving the trained model in a Pickle file for future use.\n",
    "\n",
    "* Machine learning models take along time to train on large datasets.   \n",
    "* Pickle is a Python tool that is useful for saving machine learning models so as to avoid having to retrain your model in order to re-use it.    \n",
    "* This makes it reusable since the trained model can easily be re-loaded.   \n",
    "* Pickle save and Pickle load functionality allow for saving and re-run of the saved pre-trained model.    "
   ]
  },
  {
   "cell_type": "code",
   "execution_count": 9,
   "id": "51ea0529-d4cb-402e-a25b-15315f50b96c",
   "metadata": {},
   "outputs": [],
   "source": [
    "# save the data\n",
    "pickle.dump(X , open('X.pkl' , 'wb'))\n",
    "pickle.dump(Y , open('Y.pkl' , 'wb'))"
   ]
  },
  {
   "cell_type": "code",
   "execution_count": 10,
   "id": "d100bb98-f966-4624-b52e-8dc2d76d0b1d",
   "metadata": {},
   "outputs": [
    {
     "data": {
      "text/plain": [
       "array([[[0.61176471, 0.69803922, 0.70196078, ..., 0.56862745,\n",
       "         0.55294118, 0.49803922],\n",
       "        [0.62352941, 0.62745098, 0.59607843, ..., 0.61176471,\n",
       "         0.57254902, 0.52941176],\n",
       "        [0.61176471, 0.59215686, 0.62745098, ..., 0.55686275,\n",
       "         0.59215686, 0.54901961],\n",
       "        ...,\n",
       "        [0.62352941, 0.72156863, 0.65882353, ..., 0.62745098,\n",
       "         0.6       , 0.5372549 ],\n",
       "        [0.63529412, 0.68627451, 0.72156863, ..., 0.64705882,\n",
       "         0.60392157, 0.59607843],\n",
       "        [0.61176471, 0.70196078, 0.76078431, ..., 0.64313725,\n",
       "         0.61568627, 0.58039216]],\n",
       "\n",
       "       [[0.0627451 , 0.09019608, 0.10980392, ..., 0.14901961,\n",
       "         0.15294118, 0.14901961],\n",
       "        [0.07058824, 0.09411765, 0.10980392, ..., 0.15686275,\n",
       "         0.15686275, 0.15686275],\n",
       "        [0.07843137, 0.09803922, 0.10980392, ..., 0.15686275,\n",
       "         0.15686275, 0.15686275],\n",
       "        ...,\n",
       "        [0.12941176, 0.12156863, 0.08627451, ..., 0.16470588,\n",
       "         0.16470588, 0.16078431],\n",
       "        [0.14117647, 0.14509804, 0.11372549, ..., 0.16470588,\n",
       "         0.16470588, 0.16862745],\n",
       "        [0.1372549 , 0.14901961, 0.1372549 , ..., 0.15686275,\n",
       "         0.16470588, 0.15686275]],\n",
       "\n",
       "       [[0.61176471, 0.61960784, 0.60392157, ..., 0.5254902 ,\n",
       "         0.52941176, 0.49019608],\n",
       "        [0.61568627, 0.61960784, 0.59607843, ..., 0.44313725,\n",
       "         0.47058824, 0.50980392],\n",
       "        [0.60784314, 0.58431373, 0.57254902, ..., 0.38431373,\n",
       "         0.4       , 0.45490196],\n",
       "        ...,\n",
       "        [0.44313725, 0.4627451 , 0.48627451, ..., 0.5254902 ,\n",
       "         0.50588235, 0.48235294],\n",
       "        [0.38823529, 0.44313725, 0.4745098 , ..., 0.53333333,\n",
       "         0.51372549, 0.49803922],\n",
       "        [0.43137255, 0.4       , 0.43137255, ..., 0.5254902 ,\n",
       "         0.50588235, 0.49803922]],\n",
       "\n",
       "       ...,\n",
       "\n",
       "       [[0.5372549 , 0.58039216, 0.63137255, ..., 0.69803922,\n",
       "         0.6745098 , 0.69019608],\n",
       "        [0.56078431, 0.60784314, 0.65098039, ..., 0.65490196,\n",
       "         0.6627451 , 0.6627451 ],\n",
       "        [0.58039216, 0.62745098, 0.65098039, ..., 0.58431373,\n",
       "         0.6       , 0.63137255],\n",
       "        ...,\n",
       "        [0.56470588, 0.61176471, 0.61176471, ..., 0.63921569,\n",
       "         0.62352941, 0.63137255],\n",
       "        [0.57647059, 0.60784314, 0.63921569, ..., 0.64313725,\n",
       "         0.62745098, 0.64313725],\n",
       "        [0.57647059, 0.60784314, 0.64313725, ..., 0.66666667,\n",
       "         0.64705882, 0.63137255]],\n",
       "\n",
       "       [[0.1254902 , 0.1254902 , 0.10588235, ..., 0.6627451 ,\n",
       "         0.68235294, 0.70588235],\n",
       "        [0.14901961, 0.14509804, 0.12941176, ..., 0.59607843,\n",
       "         0.63137255, 0.65098039],\n",
       "        [0.18431373, 0.16470588, 0.16862745, ..., 0.34901961,\n",
       "         0.58431373, 0.60392157],\n",
       "        ...,\n",
       "        [0.37647059, 0.40392157, 0.38823529, ..., 0.29803922,\n",
       "         0.28627451, 0.27058824],\n",
       "        [0.38039216, 0.43137255, 0.40784314, ..., 0.36470588,\n",
       "         0.30980392, 0.2627451 ],\n",
       "        [0.37254902, 0.45490196, 0.42352941, ..., 0.40392157,\n",
       "         0.36862745, 0.2745098 ]],\n",
       "\n",
       "       [[0.50196078, 0.50196078, 0.47843137, ..., 0.58823529,\n",
       "         0.58039216, 0.49803922],\n",
       "        [0.51764706, 0.50196078, 0.49411765, ..., 0.56862745,\n",
       "         0.56862745, 0.59215686],\n",
       "        [0.52941176, 0.50980392, 0.51372549, ..., 0.55686275,\n",
       "         0.56862745, 0.57647059],\n",
       "        ...,\n",
       "        [0.52156863, 0.54901961, 0.55686275, ..., 0.53333333,\n",
       "         0.51372549, 0.5254902 ],\n",
       "        [0.4745098 , 0.54117647, 0.54509804, ..., 0.55686275,\n",
       "         0.55686275, 0.55686275],\n",
       "        [0.49019608, 0.47058824, 0.58431373, ..., 0.56470588,\n",
       "         0.58823529, 0.59607843]]])"
      ]
     },
     "execution_count": 10,
     "metadata": {},
     "output_type": "execute_result"
    }
   ],
   "source": [
    "#Normalizing the input image array - so that values lie between 0 and 1\n",
    "X = X/255\n",
    "X"
   ]
  },
  {
   "cell_type": "code",
   "execution_count": 11,
   "id": "3cab72b7-1779-42c2-859a-393ab82e19f7",
   "metadata": {},
   "outputs": [
    {
     "data": {
      "text/plain": [
       "(1234, 24, 24, 1)"
      ]
     },
     "execution_count": 11,
     "metadata": {},
     "output_type": "execute_result"
    }
   ],
   "source": [
    "# reshaping the X array to (24,24,1)\n",
    "image_rows,image_cols = 24,24\n",
    "X = X.reshape(X.shape[0],image_rows,image_cols,1)\n",
    "X.shape"
   ]
  },
  {
   "cell_type": "markdown",
   "id": "7229848d-4135-4bd5-a9c4-56fa78864ef3",
   "metadata": {},
   "source": [
    "## Creating the Model - Using Keras"
   ]
  },
  {
   "cell_type": "code",
   "execution_count": 12,
   "id": "9bb4399c-2562-4e4b-aade-e9eaf9db6310",
   "metadata": {},
   "outputs": [],
   "source": [
    "# creating the model\n",
    "model = Sequential()\n",
    "\n",
    "model.add(Conv2D(64 , (3,3) , activation = 'relu' , input_shape= X.shape[1:]))\n",
    "model.add(MaxPooling2D((1,1)))\n",
    "\n",
    "model.add(Conv2D(64 , (3,3) , activation = 'relu'))\n",
    "model.add(MaxPooling2D((1,1)))\n",
    "\n",
    "model.add(Conv2D(64 , (3,3) , activation = 'relu'))\n",
    "model.add(MaxPooling2D((1,1)))\n",
    "\n",
    "model.add(Flatten())\n",
    "\n",
    "model.add(Dense(128, activation = 'relu'))\n",
    "\n",
    "model.add(Dense(2, activation = 'softmax'))"
   ]
  },
  {
   "cell_type": "code",
   "execution_count": 13,
   "id": "fe12844a-d2b8-42f4-9bbc-3a3679b400d3",
   "metadata": {},
   "outputs": [],
   "source": [
    "#Training (compiling) the created model\n",
    "model.compile(optimizer = 'adam' , loss = 'sparse_categorical_crossentropy' , metrics = ['accuracy'])"
   ]
  },
  {
   "cell_type": "code",
   "execution_count": 14,
   "id": "7694b6ea-4562-4143-b8df-c40f8ea9b036",
   "metadata": {},
   "outputs": [
    {
     "name": "stdout",
     "output_type": "stream",
     "text": [
      "Epoch 1/5\n",
      "35/35 [==============================] - 4s 108ms/step - loss: 0.4919 - accuracy: 0.7694 - val_loss: 0.2706 - val_accuracy: 0.9274\n",
      "Epoch 2/5\n",
      "35/35 [==============================] - 3s 86ms/step - loss: 0.1814 - accuracy: 0.9279 - val_loss: 0.1800 - val_accuracy: 0.9355\n",
      "Epoch 3/5\n",
      "35/35 [==============================] - 3s 80ms/step - loss: 0.1205 - accuracy: 0.9541 - val_loss: 0.1772 - val_accuracy: 0.9113\n",
      "Epoch 4/5\n",
      "35/35 [==============================] - 3s 92ms/step - loss: 0.0973 - accuracy: 0.9667 - val_loss: 0.1905 - val_accuracy: 0.9355\n",
      "Epoch 5/5\n",
      "35/35 [==============================] - 3s 93ms/step - loss: 0.1019 - accuracy: 0.9649 - val_loss: 0.0925 - val_accuracy: 0.9677\n"
     ]
    },
    {
     "data": {
      "text/plain": [
       "<keras.callbacks.History at 0x267ffdeeaf0>"
      ]
     },
     "execution_count": 14,
     "metadata": {},
     "output_type": "execute_result"
    }
   ],
   "source": [
    "# fitting X , Y to the trained model\n",
    "model.fit(X, Y, epochs = 5 , validation_split = 0.1 , batch_size = 32)"
   ]
  },
  {
   "cell_type": "code",
   "execution_count": 15,
   "id": "7c16cee0-0ec3-4124-863f-d0022085b974",
   "metadata": {},
   "outputs": [
    {
     "name": "stderr",
     "output_type": "stream",
     "text": [
      "WARNING:absl:Found untraced functions such as _jit_compiled_convolution_op, _jit_compiled_convolution_op, _jit_compiled_convolution_op while saving (showing 3 of 3). These functions will not be directly callable after loading.\n"
     ]
    },
    {
     "name": "stdout",
     "output_type": "stream",
     "text": [
      "INFO:tensorflow:Assets written to: ram://e235f65b-47d4-482b-bc94-9d846182625c/assets\n"
     ]
    },
    {
     "name": "stderr",
     "output_type": "stream",
     "text": [
      "INFO:tensorflow:Assets written to: ram://e235f65b-47d4-482b-bc94-9d846182625c/assets\n"
     ]
    }
   ],
   "source": [
    "# saving the model to a pickle file\n",
    "model.save(\"result_model.h5\")\n",
    "\n",
    "# saving the model to a pickle file\n",
    "filename = 'result_model.h5'\n",
    "# save data to a file\n",
    "with open(filename,'wb') as fout:\n",
    "    pickle.dump(model,fout)"
   ]
  },
  {
   "cell_type": "code",
   "execution_count": 16,
   "id": "099be2ec-b843-49c7-b828-3f7c35b6e7eb",
   "metadata": {
    "tags": []
   },
   "outputs": [],
   "source": [
    "## load the model we created\n",
    "#model = load_model(\"result_model.h5\")"
   ]
  },
  {
   "cell_type": "code",
   "execution_count": null,
   "id": "89394947-262a-436f-bf20-c35b99a6bb54",
   "metadata": {},
   "outputs": [],
   "source": []
  },
  {
   "cell_type": "markdown",
   "id": "28fcbedd-0e64-4173-9a8c-c61f2864736f",
   "metadata": {},
   "source": [
    "## Running the Model once again, recording the history, validation loss and accuracy and measuring accuracy of chosen model"
   ]
  },
  {
   "cell_type": "code",
   "execution_count": 17,
   "id": "9304a891-91ef-43c8-92d4-5ff017266953",
   "metadata": {},
   "outputs": [
    {
     "name": "stdout",
     "output_type": "stream",
     "text": [
      "Epoch 1/20\n",
      "35/35 [==============================] - ETA: 0s - loss: 0.0708 - accuracy: 0.9730"
     ]
    },
    {
     "name": "stderr",
     "output_type": "stream",
     "text": [
      "WARNING:absl:Found untraced functions such as _jit_compiled_convolution_op, _jit_compiled_convolution_op, _jit_compiled_convolution_op while saving (showing 3 of 3). These functions will not be directly callable after loading.\n"
     ]
    },
    {
     "name": "stdout",
     "output_type": "stream",
     "text": [
      "INFO:tensorflow:Assets written to: model-001.model\\assets\n"
     ]
    },
    {
     "name": "stderr",
     "output_type": "stream",
     "text": [
      "INFO:tensorflow:Assets written to: model-001.model\\assets\n"
     ]
    },
    {
     "name": "stdout",
     "output_type": "stream",
     "text": [
      "35/35 [==============================] - 4s 120ms/step - loss: 0.0708 - accuracy: 0.9730 - val_loss: 0.0820 - val_accuracy: 0.9597\n",
      "Epoch 2/20\n",
      "35/35 [==============================] - 4s 111ms/step - loss: 0.0694 - accuracy: 0.9748 - val_loss: 0.0925 - val_accuracy: 0.9516\n",
      "Epoch 3/20\n",
      "35/35 [==============================] - ETA: 0s - loss: 0.0658 - accuracy: 0.9766"
     ]
    },
    {
     "name": "stderr",
     "output_type": "stream",
     "text": [
      "WARNING:absl:Found untraced functions such as _jit_compiled_convolution_op, _jit_compiled_convolution_op, _jit_compiled_convolution_op while saving (showing 3 of 3). These functions will not be directly callable after loading.\n"
     ]
    },
    {
     "name": "stdout",
     "output_type": "stream",
     "text": [
      "INFO:tensorflow:Assets written to: model-003.model\\assets\n"
     ]
    },
    {
     "name": "stderr",
     "output_type": "stream",
     "text": [
      "INFO:tensorflow:Assets written to: model-003.model\\assets\n"
     ]
    },
    {
     "name": "stdout",
     "output_type": "stream",
     "text": [
      "35/35 [==============================] - 4s 122ms/step - loss: 0.0658 - accuracy: 0.9766 - val_loss: 0.0730 - val_accuracy: 0.9677\n",
      "Epoch 4/20\n",
      "35/35 [==============================] - ETA: 0s - loss: 0.0557 - accuracy: 0.9793"
     ]
    },
    {
     "name": "stderr",
     "output_type": "stream",
     "text": [
      "WARNING:absl:Found untraced functions such as _jit_compiled_convolution_op, _jit_compiled_convolution_op, _jit_compiled_convolution_op while saving (showing 3 of 3). These functions will not be directly callable after loading.\n"
     ]
    },
    {
     "name": "stdout",
     "output_type": "stream",
     "text": [
      "INFO:tensorflow:Assets written to: model-004.model\\assets\n"
     ]
    },
    {
     "name": "stderr",
     "output_type": "stream",
     "text": [
      "INFO:tensorflow:Assets written to: model-004.model\\assets\n"
     ]
    },
    {
     "name": "stdout",
     "output_type": "stream",
     "text": [
      "35/35 [==============================] - 9s 268ms/step - loss: 0.0557 - accuracy: 0.9793 - val_loss: 0.0566 - val_accuracy: 0.9758\n",
      "Epoch 5/20\n",
      "35/35 [==============================] - 5s 141ms/step - loss: 0.0444 - accuracy: 0.9811 - val_loss: 0.0755 - val_accuracy: 0.9677\n",
      "Epoch 6/20\n",
      "35/35 [==============================] - ETA: 0s - loss: 0.0180 - accuracy: 0.9955"
     ]
    },
    {
     "name": "stderr",
     "output_type": "stream",
     "text": [
      "WARNING:absl:Found untraced functions such as _jit_compiled_convolution_op, _jit_compiled_convolution_op, _jit_compiled_convolution_op while saving (showing 3 of 3). These functions will not be directly callable after loading.\n"
     ]
    },
    {
     "name": "stdout",
     "output_type": "stream",
     "text": [
      "INFO:tensorflow:Assets written to: model-006.model\\assets\n"
     ]
    },
    {
     "name": "stderr",
     "output_type": "stream",
     "text": [
      "INFO:tensorflow:Assets written to: model-006.model\\assets\n"
     ]
    },
    {
     "name": "stdout",
     "output_type": "stream",
     "text": [
      "35/35 [==============================] - 5s 154ms/step - loss: 0.0180 - accuracy: 0.9955 - val_loss: 0.0491 - val_accuracy: 0.9677\n",
      "Epoch 7/20\n",
      "35/35 [==============================] - 4s 118ms/step - loss: 0.0179 - accuracy: 0.9928 - val_loss: 0.1362 - val_accuracy: 0.9597\n",
      "Epoch 8/20\n",
      "35/35 [==============================] - 4s 120ms/step - loss: 0.0309 - accuracy: 0.9874 - val_loss: 0.0517 - val_accuracy: 0.9839\n",
      "Epoch 9/20\n",
      "35/35 [==============================] - 5s 134ms/step - loss: 0.0297 - accuracy: 0.9892 - val_loss: 0.0782 - val_accuracy: 0.9758\n",
      "Epoch 10/20\n",
      "35/35 [==============================] - 4s 112ms/step - loss: 0.0358 - accuracy: 0.9883 - val_loss: 0.1010 - val_accuracy: 0.9597\n",
      "Epoch 11/20\n",
      "35/35 [==============================] - 3s 97ms/step - loss: 0.0138 - accuracy: 0.9946 - val_loss: 0.0648 - val_accuracy: 0.9677\n",
      "Epoch 12/20\n",
      "35/35 [==============================] - ETA: 0s - loss: 0.0229 - accuracy: 0.9937"
     ]
    },
    {
     "name": "stderr",
     "output_type": "stream",
     "text": [
      "WARNING:absl:Found untraced functions such as _jit_compiled_convolution_op, _jit_compiled_convolution_op, _jit_compiled_convolution_op while saving (showing 3 of 3). These functions will not be directly callable after loading.\n"
     ]
    },
    {
     "name": "stdout",
     "output_type": "stream",
     "text": [
      "INFO:tensorflow:Assets written to: model-012.model\\assets\n"
     ]
    },
    {
     "name": "stderr",
     "output_type": "stream",
     "text": [
      "INFO:tensorflow:Assets written to: model-012.model\\assets\n"
     ]
    },
    {
     "name": "stdout",
     "output_type": "stream",
     "text": [
      "35/35 [==============================] - 6s 188ms/step - loss: 0.0229 - accuracy: 0.9937 - val_loss: 0.0385 - val_accuracy: 0.9839\n",
      "Epoch 13/20\n",
      "35/35 [==============================] - 4s 121ms/step - loss: 0.0222 - accuracy: 0.9937 - val_loss: 0.1106 - val_accuracy: 0.9516\n",
      "Epoch 14/20\n",
      "35/35 [==============================] - ETA: 0s - loss: 0.0185 - accuracy: 0.9946"
     ]
    },
    {
     "name": "stderr",
     "output_type": "stream",
     "text": [
      "WARNING:absl:Found untraced functions such as _jit_compiled_convolution_op, _jit_compiled_convolution_op, _jit_compiled_convolution_op while saving (showing 3 of 3). These functions will not be directly callable after loading.\n"
     ]
    },
    {
     "name": "stdout",
     "output_type": "stream",
     "text": [
      "INFO:tensorflow:Assets written to: model-014.model\\assets\n"
     ]
    },
    {
     "name": "stderr",
     "output_type": "stream",
     "text": [
      "INFO:tensorflow:Assets written to: model-014.model\\assets\n"
     ]
    },
    {
     "name": "stdout",
     "output_type": "stream",
     "text": [
      "35/35 [==============================] - 5s 139ms/step - loss: 0.0185 - accuracy: 0.9946 - val_loss: 0.0288 - val_accuracy: 0.9919\n",
      "Epoch 15/20\n",
      "35/35 [==============================] - 5s 132ms/step - loss: 0.0071 - accuracy: 0.9964 - val_loss: 0.0661 - val_accuracy: 0.9597\n",
      "Epoch 16/20\n",
      "35/35 [==============================] - 4s 127ms/step - loss: 0.0041 - accuracy: 0.9991 - val_loss: 0.0292 - val_accuracy: 0.9839\n",
      "Epoch 17/20\n",
      "35/35 [==============================] - 5s 129ms/step - loss: 0.0028 - accuracy: 1.0000 - val_loss: 0.0847 - val_accuracy: 0.9758\n",
      "Epoch 18/20\n",
      "35/35 [==============================] - 4s 103ms/step - loss: 0.0057 - accuracy: 0.9991 - val_loss: 0.0449 - val_accuracy: 0.9839\n",
      "Epoch 19/20\n",
      "35/35 [==============================] - 4s 103ms/step - loss: 0.0123 - accuracy: 0.9955 - val_loss: 0.0503 - val_accuracy: 0.9758\n",
      "Epoch 20/20\n",
      "35/35 [==============================] - 4s 125ms/step - loss: 0.0032 - accuracy: 0.9991 - val_loss: 0.0429 - val_accuracy: 0.9758\n"
     ]
    }
   ],
   "source": [
    "from keras.callbacks import ModelCheckpoint\n",
    "\n",
    "#Training and saving model with the best validation accuracy\n",
    "checkpoint = ModelCheckpoint('model-{epoch:03d}.model',monitor='val_loss',verbose=0,save_best_only=True,mode='auto')\n",
    "\n",
    "# fitting X , Y to the trained model\n",
    "#model.fit(X, Y, epochs = 5 , validation_split = 0.1 , batch_size = 32)\n",
    "history = model.fit(X, Y,epochs=20, callbacks=[checkpoint], validation_split=0.1, batch_size = 32)"
   ]
  },
  {
   "cell_type": "code",
   "execution_count": 18,
   "id": "2cbc2b3b-2d7a-462f-ac6a-91d901b963fe",
   "metadata": {},
   "outputs": [
    {
     "data": {
      "image/png": "[encoded data removed]",
      "text/plain": [
       "<Figure size 640x480 with 1 Axes>"
      ]
     },
     "metadata": {},
     "output_type": "display_data"
    }
   ],
   "source": [
    "# Plotting train and validation loss per epoch\n",
    "\n",
    "from matplotlib import pyplot as plt\n",
    "\n",
    "plt.plot(history.history['loss'],'r',label='training loss')\n",
    "plt.plot(history.history['val_loss'],label='validation loss')\n",
    "plt.xlabel('# epochs')\n",
    "plt.ylabel('loss')\n",
    "plt.legend()\n",
    "plt.show()"
   ]
  },
  {
   "cell_type": "code",
   "execution_count": 19,
   "id": "1960ee6e-3054-47ba-ba2c-799ce9303c64",
   "metadata": {},
   "outputs": [
    {
     "data": {
      "image/png": "[encoded data removed]",
      "text/plain": [
       "<Figure size 640x480 with 1 Axes>"
      ]
     },
     "metadata": {},
     "output_type": "display_data"
    }
   ],
   "source": [
    "# Plotting train and validation accuracy per epoch\n",
    "\n",
    "plt.plot(history.history['accuracy'],'r',label='training accuracy')\n",
    "plt.plot(history.history['val_accuracy'],label='validation accuracy')\n",
    "plt.xlabel('# epochs')\n",
    "plt.ylabel('loss')\n",
    "plt.legend()\n",
    "plt.show()"
   ]
  },
  {
   "cell_type": "code",
   "execution_count": 20,
   "id": "c90e0eae-6b54-4b12-b459-5071a6949d3c",
   "metadata": {},
   "outputs": [
    {
     "name": "stdout",
     "output_type": "stream",
     "text": [
      "39/39 [==============================] - 1s 26ms/step - loss: 0.0050 - accuracy: 0.9976\n",
      "[0.005045485217124224, 0.9975689053535461]\n"
     ]
    }
   ],
   "source": [
    "#print(model.evaluate(test_data,test_target))\n",
    "print(model.evaluate(X,Y))\n",
    "# Model loss and accuracy"
   ]
  },
  {
   "cell_type": "code",
   "execution_count": null,
   "id": "ae6ae21b-88e0-4075-9da3-8a476972bf9e",
   "metadata": {},
   "outputs": [],
   "source": []
  },
  {
   "cell_type": "markdown",
   "id": "1d5d1c5d-2db2-424c-8a56-0d49ae545a32",
   "metadata": {},
   "source": [
    "Links:\n",
    "https://projectgurukul.org/driver-drowsiness-detection-system-opencv-tensorflow/#:~:text=This%20driver%20drowsiness%20detection%20project%20is%20created%20to,that%20the%20person%E2%80%99s%20eyes%20are%20closed%20or%20open\n",
    "\n",
    "Dataset: https://www.kaggle.com/datasets/serenaraju/yawn-eye-dataset-new\n",
    "Pickle: https://practicaldatascience.co.uk/machine-learning/how-to-save-and-load-machine-learning-models-using-pickle\n",
    "\n",
    "https://www.kaggle.com/code/sayamkumar/driver-drowsiness-detection\n"
   ]
  }
 ],
 "metadata": {
  "kernelspec": {
   "display_name": "Python 3 (ipykernel)",
   "language": "python",
   "name": "python3"
  },
  "language_info": {
   "codemirror_mode": {
    "name": "ipython",
    "version": 3
   },
   "file_extension": ".py",
   "mimetype": "text/x-python",
   "name": "python",
   "nbconvert_exporter": "python",
   "pygments_lexer": "ipython3",
   "version": "3.9.7"
  }
 },
 "nbformat": 4,
 "nbformat_minor": 5
}
